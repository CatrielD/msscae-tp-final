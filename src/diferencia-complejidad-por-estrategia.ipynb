{
 "cells": [
  {
   "cell_type": "code",
   "execution_count": 1,
   "id": "67acde0d-99c7-4951-8fbf-15b9e3bd1f89",
   "metadata": {},
   "outputs": [
    {
     "name": "stdout",
     "output_type": "stream",
     "text": [
      "Se cargaron los datos desde ../data/default_oce_2018-2020.pkl\n"
     ]
    }
   ],
   "source": [
    "from lib.data import *\n",
    "data, raw = get_default_oec_rca_raw_data()"
   ]
  },
  {
   "cell_type": "code",
   "execution_count": 2,
   "id": "5ca8f46c-f847-4378-b7df-ea95336f3eec",
   "metadata": {},
   "outputs": [],
   "source": [
    "import numpy as np\n",
    "import time\n",
    "import matplotlib.pyplot as plt"
   ]
  },
  {
   "cell_type": "code",
   "execution_count": 3,
   "id": "957c957d-cf6b-46e8-af99-6d982380c3c7",
   "metadata": {},
   "outputs": [],
   "source": [
    "import economic_complexity as ecplx\n",
    "\n",
    "rca = ecplx.rca(data)\n",
    "M = build_M_from(rca)\n",
    "cant_paises = len(M.index.to_list())"
   ]
  },
  {
   "cell_type": "code",
   "execution_count": 4,
   "id": "499bae69-b8a9-48be-a7ca-4f593c2d27f4",
   "metadata": {},
   "outputs": [],
   "source": [
    "#from informe import SimuladorEstatico, SimuladorDinamico, SimuladorComplejo, PaisNaive\n",
    "from informe import *\n",
    "from lib.utils import correr_simulacion_mostrando, cantidad_descubrimientos_iteracion"
   ]
  },
  {
   "cell_type": "markdown",
   "id": "4e3f92ad-1de2-4a0e-b4d3-27e16f390d2c",
   "metadata": {},
   "source": [
    "Usando el valor de $\\Omega$ hallado nos preguntamos como afecta la estrategia en la evolución en complejidad de los paises.\n",
    "\n",
    "Para esto dividimos en dos porciones los paises según dos clases, el 50% más complejo y el 50% menos complejo y probamos asignarle a cada clase un distinto tiempo de estrategia. \n",
    "\n",
    "Para eso primero necesitamos obtener la distribución de complejidades para cada país:"
   ]
  },
  {
   "cell_type": "code",
   "execution_count": 5,
   "id": "0d6785e0-54e8-4d63-a0ac-8ddfa3f68ab9",
   "metadata": {},
   "outputs": [],
   "source": [
    "ECI, PCI = ecplx.complexity(M)"
   ]
  },
  {
   "cell_type": "code",
   "execution_count": 6,
   "id": "d9c4198e-70f9-4fd5-ab83-08e97a88180e",
   "metadata": {},
   "outputs": [
    {
     "data": {
      "text/plain": [
       "<matplotlib.patches.StepPatch at 0x7ada208e1a50>"
      ]
     },
     "execution_count": 6,
     "metadata": {},
     "output_type": "execute_result"
    },
    {
     "data": {
      "image/png": "[encoded data removed]",
      "text/plain": [
       "<Figure size 640x480 with 1 Axes>"
      ]
     },
     "metadata": {},
     "output_type": "display_data"
    }
   ],
   "source": [
    "counts, bins = np.histogram(list(ECI), 10)\n",
    "plt.stairs(counts, bins)"
   ]
  },
  {
   "cell_type": "markdown",
   "id": "8205aecd-b3bb-4c30-892a-088632d5608a",
   "metadata": {},
   "source": [
    "lo que es bastante aproximado a lo esperado:\n",
    "![image.png](attachment:c07f20e8-0e32-4864-b7af-bc10d9f6a727.png)"
   ]
  },
  {
   "cell_type": "markdown",
   "id": "27a479e3-febd-47a8-ab14-17713f238cbd",
   "metadata": {},
   "source": [
    " una distribución normal ~(0,1)"
   ]
  },
  {
   "cell_type": "code",
   "execution_count": 7,
   "id": "d2b8fc9f-e043-4562-a2b3-bca4ebfec5a7",
   "metadata": {},
   "outputs": [
    {
     "data": {
      "text/plain": [
       "0.9968503858773891"
      ]
     },
     "execution_count": 7,
     "metadata": {},
     "output_type": "execute_result"
    }
   ],
   "source": [
    "np.std(ECI)"
   ]
  },
  {
   "cell_type": "code",
   "execution_count": 8,
   "id": "dce4b066-b272-41b5-9807-a4fe40c1a10a",
   "metadata": {},
   "outputs": [],
   "source": [
    "from informe import PaisCigarra, PaisHormiga\n",
    "\n",
    "iteraciones = 35\n",
    "omega = 0.55\n",
    "\n",
    "def pais_factory_segun_complejidad(clase_simple, clase_complejo):\n",
    "    return lambda **constructor_args: clase_complejo(**constructor_args) \\\n",
    "                                      if constructor_args[\"eci\"] > 0 else clase_simple(**constructor_args)"
   ]
  },
  {
   "cell_type": "code",
   "execution_count": 9,
   "id": "e699ec67-7185-436e-8400-42a4673a059d",
   "metadata": {
    "scrolled": true
   },
   "outputs": [
    {
     "name": "stdout",
     "output_type": "stream",
     "text": [
      "proximidad calculada en: 0.18710708618164062\n"
     ]
    },
    {
     "ename": "TypeError",
     "evalue": "pais_factory_segun_complejidad.<locals>.<lambda>() takes 0 positional arguments but 7 were given",
     "output_type": "error",
     "traceback": [
      "\u001b[0;31m---------------------------------------------------------------------------\u001b[0m",
      "\u001b[0;31mTypeError\u001b[0m                                 Traceback (most recent call last)",
      "Cell \u001b[0;32mIn[9], line 2\u001b[0m\n\u001b[1;32m      1\u001b[0m sim_simplesHormigas_complejosHormigas \u001b[38;5;241m=\u001b[39m \\\n\u001b[0;32m----> 2\u001b[0m     \u001b[43mSimuladorComplejo\u001b[49m\u001b[43m(\u001b[49m\u001b[38;5;28;43;01mlambda\u001b[39;49;00m\u001b[43m \u001b[49m\u001b[43mstep\u001b[49m\u001b[43m:\u001b[49m\u001b[43m \u001b[49m\u001b[43mstep\u001b[49m\u001b[43m \u001b[49m\u001b[38;5;241;43m>\u001b[39;49m\u001b[38;5;241;43m=\u001b[39;49m\u001b[43m \u001b[49m\u001b[43miteraciones\u001b[49m\u001b[43m,\u001b[49m\u001b[43m \u001b[49m\n\u001b[1;32m      3\u001b[0m \u001b[43m                      \u001b[49m\u001b[43mpais_factory_segun_complejidad\u001b[49m\u001b[43m(\u001b[49m\u001b[43mclase_simple\u001b[49m\u001b[38;5;241;43m=\u001b[39;49m\u001b[43mPaisHormiga\u001b[49m\u001b[43m,\u001b[49m\u001b[43m \u001b[49m\u001b[43mclase_complejo\u001b[49m\u001b[38;5;241;43m=\u001b[39;49m\u001b[43mPaisHormiga\u001b[49m\u001b[43m)\u001b[49m\u001b[43m,\u001b[49m\u001b[43m \u001b[49m\n\u001b[1;32m      4\u001b[0m \u001b[43m                      \u001b[49m\u001b[43mM\u001b[49m\u001b[38;5;241;43m.\u001b[39;49m\u001b[43mcopy\u001b[49m\u001b[43m(\u001b[49m\u001b[43mdeep\u001b[49m\u001b[38;5;241;43m=\u001b[39;49m\u001b[38;5;28;43;01mTrue\u001b[39;49;00m\u001b[43m)\u001b[49m\u001b[43m,\u001b[49m\u001b[43m \u001b[49m\u001b[43momega\u001b[49m\u001b[43m)\u001b[49m\n\u001b[1;32m      5\u001b[0m sim_simplesHormigas_complejosCigarras \u001b[38;5;241m=\u001b[39m \\\n\u001b[1;32m      6\u001b[0m     SimuladorComplejo(\u001b[38;5;28;01mlambda\u001b[39;00m step: step \u001b[38;5;241m>\u001b[39m\u001b[38;5;241m=\u001b[39m iteraciones, \n\u001b[1;32m      7\u001b[0m                       pais_factory_segun_complejidad(clase_simple\u001b[38;5;241m=\u001b[39mPaisHormiga, clase_complejo\u001b[38;5;241m=\u001b[39mPaisCigarra), \n\u001b[1;32m      8\u001b[0m                       M\u001b[38;5;241m.\u001b[39mcopy(deep\u001b[38;5;241m=\u001b[39m\u001b[38;5;28;01mTrue\u001b[39;00m), omega)\n\u001b[1;32m      9\u001b[0m sim_simplesCigarras_complejosHormigas \u001b[38;5;241m=\u001b[39m \\\n\u001b[1;32m     10\u001b[0m     SimuladorComplejo(\u001b[38;5;28;01mlambda\u001b[39;00m step: step \u001b[38;5;241m>\u001b[39m\u001b[38;5;241m=\u001b[39m iteraciones, \n\u001b[1;32m     11\u001b[0m                       pais_factory_segun_complejidad(clase_simple\u001b[38;5;241m=\u001b[39mPaisCigarra, clase_complejo\u001b[38;5;241m=\u001b[39mPaisHormiga), \n\u001b[1;32m     12\u001b[0m                       M\u001b[38;5;241m.\u001b[39mcopy(deep\u001b[38;5;241m=\u001b[39m\u001b[38;5;28;01mTrue\u001b[39;00m), omega)\n",
      "File \u001b[0;32m~/FCEN/MSSCAE24/tp-final/src/lib/simulador.py:157\u001b[0m, in \u001b[0;36mSimuladorComplejo.__init__\u001b[0;34m(self, criterio_parada, constructor_pais, M, omega, tiempo_maximo)\u001b[0m\n\u001b[1;32m    155\u001b[0m \u001b[38;5;28mself\u001b[39m\u001b[38;5;241m.\u001b[39mECI, \u001b[38;5;28mself\u001b[39m\u001b[38;5;241m.\u001b[39mPCI \u001b[38;5;241m=\u001b[39m ecplx\u001b[38;5;241m.\u001b[39mcomplexity(M)\n\u001b[1;32m    156\u001b[0m \u001b[38;5;28mself\u001b[39m\u001b[38;5;241m.\u001b[39mtiempo_maximo \u001b[38;5;241m=\u001b[39m tiempo_maximo\n\u001b[0;32m--> 157\u001b[0m \u001b[38;5;28;43msuper\u001b[39;49m\u001b[43m(\u001b[49m\u001b[43m)\u001b[49m\u001b[38;5;241;43m.\u001b[39;49m\u001b[38;5;21;43m__init__\u001b[39;49m\u001b[43m(\u001b[49m\u001b[43mcriterio_parada\u001b[49m\u001b[43m,\u001b[49m\u001b[43m \u001b[49m\u001b[43mconstructor_pais\u001b[49m\u001b[43m,\u001b[49m\u001b[43m \u001b[49m\u001b[43mM\u001b[49m\u001b[43m,\u001b[49m\u001b[43m \u001b[49m\u001b[43momega\u001b[49m\u001b[43m)\u001b[49m\n",
      "File \u001b[0;32m~/FCEN/MSSCAE24/tp-final/src/lib/simulador.py:110\u001b[0m, in \u001b[0;36mSimuladorProductSpace.__init__\u001b[0;34m(self, criterio_parada, constructor_pais, M, omega)\u001b[0m\n\u001b[1;32m    108\u001b[0m \u001b[38;5;28mprint\u001b[39m(\u001b[38;5;124mf\u001b[39m\u001b[38;5;124m\"\u001b[39m\u001b[38;5;124mproximidad calculada en: \u001b[39m\u001b[38;5;132;01m{\u001b[39;00mtime\u001b[38;5;241m.\u001b[39mtime()\u001b[38;5;250m \u001b[39m\u001b[38;5;241m-\u001b[39m\u001b[38;5;250m \u001b[39mstart\u001b[38;5;132;01m}\u001b[39;00m\u001b[38;5;124m\"\u001b[39m)\n\u001b[1;32m    109\u001b[0m \u001b[38;5;66;03m# llamar al constructor de las super clases al final\u001b[39;00m\n\u001b[0;32m--> 110\u001b[0m \u001b[38;5;28;43msuper\u001b[39;49m\u001b[43m(\u001b[49m\u001b[43m)\u001b[49m\u001b[38;5;241;43m.\u001b[39;49m\u001b[38;5;21;43m__init__\u001b[39;49m\u001b[43m(\u001b[49m\u001b[43mcriterio_parada\u001b[49m\u001b[43m,\u001b[49m\u001b[43m \u001b[49m\u001b[43mconstructor_pais\u001b[49m\u001b[43m)\u001b[49m\n",
      "File \u001b[0;32m~/FCEN/MSSCAE24/tp-final/src/lib/simulador.py:29\u001b[0m, in \u001b[0;36mSimulador.__init__\u001b[0;34m(self, criterio_parada, constructor_pais)\u001b[0m\n\u001b[1;32m     27\u001b[0m \u001b[38;5;28mself\u001b[39m\u001b[38;5;241m.\u001b[39m_estado_inicial_de_parada()\n\u001b[1;32m     28\u001b[0m start \u001b[38;5;241m=\u001b[39m time\u001b[38;5;241m.\u001b[39mtime()\n\u001b[0;32m---> 29\u001b[0m \u001b[38;5;28mself\u001b[39m\u001b[38;5;241m.\u001b[39m_paises \u001b[38;5;241m=\u001b[39m \u001b[38;5;28;43mself\u001b[39;49m\u001b[38;5;241;43m.\u001b[39;49m\u001b[43m_crear_paises\u001b[49m\u001b[43m(\u001b[49m\u001b[43mconstructor_pais\u001b[49m\u001b[43m)\u001b[49m\n\u001b[1;32m     30\u001b[0m \u001b[38;5;28mprint\u001b[39m(\u001b[38;5;124mf\u001b[39m\u001b[38;5;124m\"\u001b[39m\u001b[38;5;124mpaises creados en: \u001b[39m\u001b[38;5;132;01m{\u001b[39;00mtime\u001b[38;5;241m.\u001b[39mtime()\u001b[38;5;250m \u001b[39m\u001b[38;5;241m-\u001b[39m\u001b[38;5;250m \u001b[39mstart\u001b[38;5;132;01m}\u001b[39;00m\u001b[38;5;124m\"\u001b[39m)\n",
      "File \u001b[0;32m~/FCEN/MSSCAE24/tp-final/src/lib/simulador.py:170\u001b[0m, in \u001b[0;36mSimuladorComplejo._crear_paises\u001b[0;34m(self, constructor_pais)\u001b[0m\n\u001b[1;32m    169\u001b[0m \u001b[38;5;28;01mdef\u001b[39;00m \u001b[38;5;21m_crear_paises\u001b[39m(\u001b[38;5;28mself\u001b[39m, constructor_pais):\n\u001b[0;32m--> 170\u001b[0m     \u001b[38;5;28;01mreturn\u001b[39;00m {country_name:\n\u001b[1;32m    171\u001b[0m             constructor_pais(\n\u001b[1;32m    172\u001b[0m                 country_name, \u001b[38;5;28mself\u001b[39m\u001b[38;5;241m.\u001b[39mM,\n\u001b[1;32m    173\u001b[0m                 \u001b[38;5;28mself\u001b[39m\u001b[38;5;241m.\u001b[39mproximidad,\n\u001b[1;32m    174\u001b[0m                 \u001b[38;5;28mself\u001b[39m\u001b[38;5;241m.\u001b[39mECI[country_name],\n\u001b[1;32m    175\u001b[0m                 \u001b[38;5;28mself\u001b[39m\u001b[38;5;241m.\u001b[39mPCI,\n\u001b[1;32m    176\u001b[0m                 \u001b[38;5;28mself\u001b[39m\u001b[38;5;241m.\u001b[39momega,\n\u001b[1;32m    177\u001b[0m                 \u001b[38;5;28mself\u001b[39m\u001b[38;5;241m.\u001b[39mtiempo_maximo)\n\u001b[1;32m    178\u001b[0m             \u001b[38;5;28;01mfor\u001b[39;00m country_name \u001b[38;5;129;01min\u001b[39;00m \u001b[38;5;28mself\u001b[39m\u001b[38;5;241m.\u001b[39mM\u001b[38;5;241m.\u001b[39mindex}\n",
      "File \u001b[0;32m~/FCEN/MSSCAE24/tp-final/src/lib/simulador.py:171\u001b[0m, in \u001b[0;36m<dictcomp>\u001b[0;34m(.0)\u001b[0m\n\u001b[1;32m    169\u001b[0m \u001b[38;5;28;01mdef\u001b[39;00m \u001b[38;5;21m_crear_paises\u001b[39m(\u001b[38;5;28mself\u001b[39m, constructor_pais):\n\u001b[1;32m    170\u001b[0m     \u001b[38;5;28;01mreturn\u001b[39;00m {country_name:\n\u001b[0;32m--> 171\u001b[0m             \u001b[43mconstructor_pais\u001b[49m\u001b[43m(\u001b[49m\n\u001b[1;32m    172\u001b[0m \u001b[43m                \u001b[49m\u001b[43mcountry_name\u001b[49m\u001b[43m,\u001b[49m\u001b[43m \u001b[49m\u001b[38;5;28;43mself\u001b[39;49m\u001b[38;5;241;43m.\u001b[39;49m\u001b[43mM\u001b[49m\u001b[43m,\u001b[49m\n\u001b[1;32m    173\u001b[0m \u001b[43m                \u001b[49m\u001b[38;5;28;43mself\u001b[39;49m\u001b[38;5;241;43m.\u001b[39;49m\u001b[43mproximidad\u001b[49m\u001b[43m,\u001b[49m\n\u001b[1;32m    174\u001b[0m \u001b[43m                \u001b[49m\u001b[38;5;28;43mself\u001b[39;49m\u001b[38;5;241;43m.\u001b[39;49m\u001b[43mECI\u001b[49m\u001b[43m[\u001b[49m\u001b[43mcountry_name\u001b[49m\u001b[43m]\u001b[49m\u001b[43m,\u001b[49m\n\u001b[1;32m    175\u001b[0m \u001b[43m                \u001b[49m\u001b[38;5;28;43mself\u001b[39;49m\u001b[38;5;241;43m.\u001b[39;49m\u001b[43mPCI\u001b[49m\u001b[43m,\u001b[49m\n\u001b[1;32m    176\u001b[0m \u001b[43m                \u001b[49m\u001b[38;5;28;43mself\u001b[39;49m\u001b[38;5;241;43m.\u001b[39;49m\u001b[43momega\u001b[49m\u001b[43m,\u001b[49m\n\u001b[1;32m    177\u001b[0m \u001b[43m                \u001b[49m\u001b[38;5;28;43mself\u001b[39;49m\u001b[38;5;241;43m.\u001b[39;49m\u001b[43mtiempo_maximo\u001b[49m\u001b[43m)\u001b[49m\n\u001b[1;32m    178\u001b[0m             \u001b[38;5;28;01mfor\u001b[39;00m country_name \u001b[38;5;129;01min\u001b[39;00m \u001b[38;5;28mself\u001b[39m\u001b[38;5;241m.\u001b[39mM\u001b[38;5;241m.\u001b[39mindex}\n",
      "\u001b[0;31mTypeError\u001b[0m: pais_factory_segun_complejidad.<locals>.<lambda>() takes 0 positional arguments but 7 were given"
     ]
    }
   ],
   "source": [
    "sim_simplesHormigas_complejosHormigas = \\\n",
    "    SimuladorComplejo(lambda step: step >= iteraciones, \n",
    "                      pais_factory_segun_complejidad(clase_simple=PaisHormiga, clase_complejo=PaisHormiga), \n",
    "                      M.copy(deep=True), omega)\n",
    "sim_simplesHormigas_complejosCigarras = \\\n",
    "    SimuladorComplejo(lambda step: step >= iteraciones, \n",
    "                      pais_factory_segun_complejidad(clase_simple=PaisHormiga, clase_complejo=PaisCigarra), \n",
    "                      M.copy(deep=True), omega)\n",
    "sim_simplesCigarras_complejosHormigas = \\\n",
    "    SimuladorComplejo(lambda step: step >= iteraciones, \n",
    "                      pais_factory_segun_complejidad(clase_simple=PaisCigarra, clase_complejo=PaisHormiga), \n",
    "                      M.copy(deep=True), omega)\n",
    "sim_simplesCigarras_complejosCigarras = \\\n",
    "    SimuladorComplejo(lambda step: step >= iteraciones, \n",
    "                      pais_factory_segun_complejidad(clase_simple=PaisCigarra, clase_complejo=PaisCigarra), \n",
    "                      M.copy(deep=True), omega)"
   ]
  },
  {
   "cell_type": "code",
   "execution_count": null,
   "id": "1a02cacf-f3c6-45fa-b6e2-71e340f1dac6",
   "metadata": {
    "scrolled": true
   },
   "outputs": [],
   "source": [
    "from lib.utils import correr_simulacion_mostrando\n",
    "\n",
    "def pais_eci_collector(output, pais, productos_terminados):\n",
    "    output[pais.country_name] = (pais.get_eci(), productos_terminados)\n",
    "\n",
    "res_simplesHormigas_complejosHormigas = correr_simulacion_mostrando(sim_simplesHormigas_complejosHormigas, collector=pais_eci_collector)\n",
    "print(\"#################################### simulación hormigas hormigas terminada #################################\")\n",
    "res_simplesHormigas_complejosCigarras = correr_simulacion_mostrando(sim_simplesHormigas_complejosCigarras, collector=pais_eci_collector)\n",
    "print(\"#################################### simulación hormigas cigarras terminada #################################\")\n",
    "res_simplesCigarras_complejosHormigas = correr_simulacion_mostrando(sim_simplesCigarras_complejosHormigas, collector=pais_eci_collector)\n",
    "print(\"#################################### simulación cigarras hormigas terminada #################################\")\n",
    "res_simplesCigarras_complejosCigarras = correr_simulacion_mostrando(sim_simplesCigarras_complejosCigarras, collector=pais_eci_collector)\n",
    "print(\"#################################### simulación cigarras cigarras terminada #################################\")"
   ]
  },
  {
   "cell_type": "code",
   "execution_count": null,
   "id": "a78d78ab-2108-47a4-9f0c-b9490fddfd26",
   "metadata": {
    "scrolled": true
   },
   "outputs": [],
   "source": [
    "# para cada iteración, me quedo con la dispersión:\n",
    "def obtener_complejidades(data):\n",
    "    res = []\n",
    "    for iteracion in data:\n",
    "        eci_it = np.array([eci for eci, _ in iteracion.values()])\n",
    "        res.append(eci_it)\n",
    "    return res\n",
    "\n",
    "comp_simplesHormigas_complejosHormigas = obtener_complejidades(res_simplesHormigas_complejosHormigas)\n",
    "comp_simplesHormigas_complejosCigarras = obtener_complejidades(res_simplesHormigas_complejosCigarras)\n",
    "comp_simplesCigarras_complejosHormigas = obtener_complejidades(res_simplesCigarras_complejosHormigas)\n",
    "comp_simplesCigarras_complejosCigarras = obtener_complejidades(res_simplesCigarras_complejosCigarras)"
   ]
  },
  {
   "cell_type": "code",
   "execution_count": null,
   "id": "aba9281e-5a02-4620-87ad-d7aa294498df",
   "metadata": {
    "scrolled": true
   },
   "outputs": [],
   "source": [
    "comp_simplesHormigas_complejosHormigas"
   ]
  },
  {
   "cell_type": "code",
   "execution_count": null,
   "id": "a6c18efd-799e-4fa2-b297-1bd4b2e2bfe1",
   "metadata": {
    "scrolled": true
   },
   "outputs": [],
   "source": [
    "res_simplesHormigas_complejosHormigas"
   ]
  },
  {
   "cell_type": "code",
   "execution_count": null,
   "id": "f55719dc-ca2e-4dfc-8cb7-f6f7dfacf53c",
   "metadata": {},
   "outputs": [],
   "source": [
    "comp_simplesCigarras_complejosHormigas"
   ]
  },
  {
   "cell_type": "code",
   "execution_count": null,
   "id": "354e8781-ac26-449d-adc8-b6a093b469c1",
   "metadata": {},
   "outputs": [],
   "source": [
    "comp_simplesCigarras_complejosCigarras"
   ]
  },
  {
   "cell_type": "code",
   "execution_count": null,
   "id": "cf0ac0d0-fdfd-4d66-9ec4-b54491a67e3c",
   "metadata": {},
   "outputs": [],
   "source": [
    "from matplotlib.ticker import MaxNLocator\n",
    "import matplotlib.pyplot as plt\n",
    "import numpy as np\n",
    "\n",
    "fig = plt.figure(figsize=(10, 6))\n",
    "fig.gca().xaxis.set_major_locator(MaxNLocator(integer=True))\n",
    "\n",
    "stds_sH_cH = [np.std(x) for x in comp_simplesHormigas_complejosHormigas]\n",
    "stds_sH_cC = [np.std(x) for x in comp_simplesHormigas_complejosCigarras]\n",
    "stds_sC_cH = [np.std(x) for x in comp_simplesCigarras_complejosHormigas]\n",
    "stds_sC_cC = [np.std(x) for x in comp_simplesCigarras_complejosCigarras]\n",
    "\n",
    "plt.plot(range(len(comp_simplesHormigas_complejosHormigas)), stds_sH_cH, \n",
    "         label='simples: Hormigas - complejos: Hormigas', color = \"r\", linestyle='-')\n",
    "plt.plot(range(len(comp_simplesHormigas_complejosCigarras)), stds_sH_cC, \n",
    "         label='simples: Hormigas - complejos: Cigarras', color = \"g\", linestyle='-')\n",
    "plt.plot(range(len(comp_simplesCigarras_complejosHormigas)), stds_sC_cH, \n",
    "         label='simples: Cigarras - complejos: Hormigas', color = \"b\", linestyle='-')\n",
    "plt.plot(range(len(comp_simplesCigarras_complejosCigarras)), stds_sC_cC, \n",
    "         label='simples: Cigarras - complejos: Cigarras', color = \"cyan\", linestyle='-')\n",
    "plt.xlabel('Iteracion')\n",
    "plt.ylabel('Desvio standard de la complejidad de los paises')\n",
    "plt.title('Evolución del desvio standar de la complejidad de los paises según las distintas estrategias')\n",
    "plt.legend()\n",
    "plt.show()"
   ]
  },
  {
   "cell_type": "code",
   "execution_count": null,
   "id": "2ad5e096-9f27-47b2-a7f7-c29da6489f0b",
   "metadata": {
    "scrolled": true
   },
   "outputs": [],
   "source": [
    "plt.plot(range(len(comp_simplesHormigas_complejosHormigas)), stds_sH_cH, \n",
    "         label='simples: Hormigas - complejos: Hormigas', color = \"r\", linestyle='-')\n",
    "#plt.plot(range(len(comp_simplesHormigas_complejosCigarras)), stds_sH_cC, \n",
    "         #label='simples: Hormigas - complejos: Hormigas', color = \"g\", linestyle='-')\n",
    "plt.plot(range(len(comp_simplesCigarras_complejosHormigas)), stds_sC_cH, \n",
    "         label='simples: Hormigas - complejos: Hormigas', color = \"b\", linestyle='-')\n",
    "plt.plot(range(len(comp_simplesCigarras_complejosCigarras)), stds_sC_cC, \n",
    "         label='simples: Hormigas - complejos: Hormigas', color = \"cyan\", linestyle='-')\n",
    "plt.xlabel('Iteracion')\n",
    "plt.ylabel('Desvio standard de la complejidad de los paises')\n",
    "plt.title('Evolución del desvio standar de la complejidad de los paises según las distintas estrategias')\n",
    "plt.legend()\n",
    "plt.show()"
   ]
  },
  {
   "cell_type": "code",
   "execution_count": null,
   "id": "bc3c1f7d-0a4b-4eeb-b2cd-34037cbd6ebe",
   "metadata": {},
   "outputs": [],
   "source": [
    "strat_std = {}\n",
    "strat_std[\"complejidades\\niniciales\"] = ECI\n",
    "strat_std[\"simples cigarras\\ncomplejos hormigas\"] = np.concatenate(comp_simplesCigarras_complejosHormigas[-10:-1])\n",
    "strat_std[\"simples cigarras\\ncomplejos cigarras\"] = np.concatenate(comp_simplesCigarras_complejosCigarras[-10:-1])\n",
    "\n",
    "strat_std[\"simples hormigas\\ncomplejos hormigas\"] = np.concatenate(comp_simplesHormigas_complejosHormigas[-10:-1])\n",
    "strat_std[\"simples hormigas\\ncomplejos cigarras\"] = np.concatenate(comp_simplesHormigas_complejosCigarras[-10:-1])\n",
    "\n",
    "fig = plt.figure(figsize=(10, 6))\n",
    "ax = plt.boxplot(strat_std.values())\n",
    "fig.gca().set_xticklabels(list(strat_std.keys()))\n",
    "plt.xlabel('Estrategia')\n",
    "plt.ylabel('Complejidad de los paises')\n",
    "plt.title(f'Complejidades en las últimas iteraciones')\n",
    "plt.show()"
   ]
  },
  {
   "cell_type": "code",
   "execution_count": null,
   "id": "37ab315e-e972-437c-8642-f0b73c834a3c",
   "metadata": {},
   "outputs": [],
   "source": []
  }
 ],
 "metadata": {
  "kernelspec": {
   "display_name": "venv",
   "language": "python",
   "name": "venv"
  },
  "language_info": {
   "codemirror_mode": {
    "name": "ipython",
    "version": 3
   },
   "file_extension": ".py",
   "mimetype": "text/x-python",
   "name": "python",
   "nbconvert_exporter": "python",
   "pygments_lexer": "ipython3",
   "version": "3.10.14"
  }
 },
 "nbformat": 4,
 "nbformat_minor": 5
}
