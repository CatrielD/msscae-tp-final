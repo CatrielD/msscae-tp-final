{
 "cells": [
  {
   "cell_type": "code",
   "execution_count": null,
   "id": "67acde0d-99c7-4951-8fbf-15b9e3bd1f89",
   "metadata": {},
   "outputs": [],
   "source": [
    "from lib.data import *\n",
    "import time\n",
    "data, raw = get_default_oec_rca_raw_data()"
   ]
  },
  {
   "cell_type": "code",
   "execution_count": null,
   "id": "6ce58a37-759d-4140-b455-fe6a90d8d4ff",
   "metadata": {},
   "outputs": [],
   "source": [
    "data"
   ]
  },
  {
   "cell_type": "code",
   "execution_count": null,
   "id": "957c957d-cf6b-46e8-af99-6d982380c3c7",
   "metadata": {},
   "outputs": [],
   "source": [
    "import economic_complexity as ecplx\n",
    "\n",
    "rca = ecplx.rca(data)\n",
    "M = build_M_from(rca)"
   ]
  },
  {
   "cell_type": "code",
   "execution_count": null,
   "id": "499bae69-b8a9-48be-a7ca-4f593c2d27f4",
   "metadata": {},
   "outputs": [],
   "source": [
    "#from informe import SimuladorEstatico, SimuladorDinamico, SimuladorComplejo, PaisNaive\n",
    "from informe import *\n",
    "from lib.utils import *#correr_simulacion_mostrando, cantidad_descubrimientos_iteracion, cantidad_descubrimientos_paises, pais_collector"
   ]
  },
  {
   "cell_type": "markdown",
   "id": "4e3f92ad-1de2-4a0e-b4d3-27e16f390d2c",
   "metadata": {},
   "source": [
    "De forma similar al trabajo anterior:\n",
    "https://cnet.fi.uba.ar/netscix23/abstracts/Dynamics%20matter:%20A%20simulation%20framework%20to%20study%20diffusion%20processes%20on%20a%20Dynamic%20Product%20Space.pdf\n",
    "\n",
    "Vamos a comparar la convergencia tomando dos paises distintos, Argentina y Alemania, según el $\\Omega$.\n",
    "\n",
    "Un **PaisComplejo**, tarda en ser competitivo a un producto alcanzable -según la proximidad- de acuerdo a la complejidad del producto.\n",
    "\n",
    "De tal manera que al inicio de la simulación se toma el rango de menor a mayor complejidad y se lineariza entre 1 y 10 iteraciones.\n",
    "\n",
    "**NOTA** explorar distintos calculos de pci -> tiempo?\n",
    "\n",
    "Como en el paper citado, la convergencia está en el orden de las unidades (3-5 iteraciones aprox) en este trabajo se iterara diez veces esa cantidad."
   ]
  },
  {
   "cell_type": "code",
   "execution_count": null,
   "id": "0d6785e0-54e8-4d63-a0ac-8ddfa3f68ab9",
   "metadata": {},
   "outputs": [],
   "source": [
    "cant_paises = len(M.index.to_list())\n",
    "\n",
    "# 0.1..0.9\n",
    "def simular_para(sim_clase_estatica= SimuladorComplejoEstatico, pais_clase_estatico = PaisComplejo,\n",
    "                 sim_clase_dinamica=SimuladorComplejo, pais_clase_dinamico = PaisComplejo,\n",
    "                 omegas = [], iteraciones=15, mostrar=False):\n",
    "    for omega in omegas:\n",
    "        estatico = sim_clase_estatica(lambda step: step >= iteraciones, pais_clase_estatico, M.copy(deep=True), omega)\n",
    "        dinamico = sim_clase_dinamica(lambda step: step >= iteraciones, pais_clase_dinamico, M.copy(deep=True), omega)\n",
    "        start = time.time()\n",
    "        historia_estatico = correr_simulacion_mostrando(estatico, mostrar, \n",
    "                                                        collector=default_collector, \n",
    "                                                        formatter=default_formatter)\n",
    "        historia_dinamico = correr_simulacion_mostrando(dinamico, mostrar)\n",
    "        print(f\"elapsed: {time.time() - start} segs\")\n",
    "        yield (historia_estatico, historia_dinamico, omega)"
   ]
  },
  {
   "cell_type": "code",
   "execution_count": null,
   "id": "40b84a9d-49ca-46ce-9fb7-2675d9e76e26",
   "metadata": {
    "scrolled": true
   },
   "outputs": [],
   "source": [
    "resultados_paper = list(simular_para(\n",
    "    sim_clase_dinamica=SimuladorDinamico, sim_clase_estatica=SimuladorEstatico,\n",
    "    pais_clase_dinamico=PaisNaive, pais_clase_estatico=PaisNaive,\n",
    "    omegas=[x/10.0 for x in range(1,10)], iteraciones=5))"
   ]
  },
  {
   "cell_type": "code",
   "execution_count": null,
   "id": "fb0aa89c-7a10-4c7e-9185-ec4a38c334d8",
   "metadata": {
    "scrolled": true
   },
   "outputs": [],
   "source": [
    "resultados_nuevos = list(simular_para(\n",
    "    sim_clase_dinamica=SimuladorComplejo, sim_clase_estatica=SimuladorComplejoEstatico,\n",
    "    pais_clase_dinamico=PaisComplejo, pais_clase_estatico=PaisComplejo,\n",
    "    omegas=[x/10.0 for x in range(1,10)], \n",
    "    iteraciones=35))"
   ]
  },
  {
   "cell_type": "code",
   "execution_count": null,
   "id": "74e2c5f0-9673-4396-be6e-5f164db690f9",
   "metadata": {
    "scrolled": true
   },
   "outputs": [],
   "source": [
    "import matplotlib.pyplot as plt\n",
    "import numpy as np\n",
    "from matplotlib.ticker import MaxNLocator\n",
    "\n",
    "def plot_sps_vs_dps(spd_hist, dps_hist, omega):\n",
    "    cant_des_sps = cantidad_descubrimientos_iteracion(spd_hist)\n",
    "    cant_des_sps_arg = cantidad_descubrimientos_iteracion(spd_hist, [\"Argentina\"])\n",
    "    cant_des_sps_ger = cantidad_descubrimientos_iteracion(spd_hist, [\"Germany\"])\n",
    "    \n",
    "    cant_des_dps = cantidad_descubrimientos_iteracion(dps_hist)\n",
    "    cant_des_dps_arg = cantidad_descubrimientos_iteracion(dps_hist, [\"Argentina\"])\n",
    "    cant_des_dps_ger = cantidad_descubrimientos_iteracion(dps_hist, [\"Germany\"])\n",
    "    \n",
    "    fig = plt.figure(figsize=(10, 6))\n",
    "    fig.gca().xaxis.set_major_locator(MaxNLocator(integer=True))\n",
    "    plt.plot(range(len(spd_hist)), cant_des_sps / cant_paises, label='Promedio Mundial - SPS', \n",
    "            color = \"g\", linestyle='dashdot')\n",
    "    plt.plot(range(len(dps_hist)),cant_des_dps / cant_paises, label='Promedio Mundial - DPS', \n",
    "            color = \"g\", linestyle='-')\n",
    "    plt.plot(range(len(spd_hist)), cant_des_sps_arg, label='Argentina - SPS', \n",
    "            color = \"r\", linestyle='dashdot')\n",
    "    plt.plot(range(len(dps_hist)),cant_des_dps_arg, label='Argentina - DPS', \n",
    "            color = \"r\", linestyle='-')\n",
    "    plt.plot(range(len(spd_hist)), cant_des_sps_ger, label='Alemania - SPS', \n",
    "            color = \"b\", linestyle='dashdot')\n",
    "    plt.plot(range(len(dps_hist)),cant_des_dps_ger, label='Alemania - DPS', \n",
    "            color = \"b\", linestyle='-')\n",
    "    plt.xlabel('Iteracion')\n",
    "    plt.ylabel('SPS <- Diferencia de cantidad de productos exportados -> DPS')\n",
    "    plt.title(f'Productos exportados Dinámico (DPS) vs Estático (SPS) con Omega = {omega}')\n",
    "    plt.legend()\n",
    "    plt.show()"
   ]
  },
  {
   "cell_type": "code",
   "execution_count": null,
   "id": "ff4e3bf4-1806-4354-9d6a-b6278067d318",
   "metadata": {
    "scrolled": true
   },
   "outputs": [],
   "source": [
    "for (spd_hist, dps_hist, omega) in resultados_paper:\n",
    "    plot_sps_vs_dps(spd_hist, dps_hist, omega)"
   ]
  },
  {
   "cell_type": "code",
   "execution_count": null,
   "id": "7fc2fc8d-9836-4019-808a-12592f66b327",
   "metadata": {},
   "outputs": [],
   "source": [
    "from matplotlib.ticker import FormatStrFormatter\n",
    "\n",
    "def plot_dps_vs_sps_boxplot(paises, resultados, aclaracion = \"\", max_it=None):\n",
    "    prom_diffs = {}\n",
    "    for (sps_hist, dps_hist, omega) in resultados:\n",
    "        mit = max_it if max_it else len(sps_hist)\n",
    "        sps_desc_por_pais = {p: cantidad_descubrimientos_paises(sps_hist[0:mit])[p] for p in paises}\n",
    "        dps_desc_por_pais = {p: cantidad_descubrimientos_paises(dps_hist[0:mit])[p] for p in paises}\n",
    "        \n",
    "        prom_diffs[omega] = np.array(list(dps_desc_por_pais.values()))\n",
    "        prom_diffs[omega] -= np.array(list(sps_desc_por_pais.values()))\n",
    "        prom_diffs[omega] = prom_diffs[omega].astype(float)\n",
    "    fig = plt.figure(figsize=(10, 6))\n",
    "    ax = plt.boxplot(prom_diffs.values()) #, tick_labels=list(prom_diffs.keys()))\n",
    "    fig.gca().set_xticklabels(list(prom_diffs.keys()))\n",
    "    plt.xlabel('Omega')\n",
    "    plt.ylabel('Promedio de diferencia de exportaciones')\n",
    "    plt.title(f'Productos extra exportados con DPS en {mit} iteraciones - {aclaracion}')\n",
    "    plt.show()"
   ]
  },
  {
   "cell_type": "code",
   "execution_count": null,
   "id": "7779ad09-4d67-47ef-8a2f-acd95b5e2267",
   "metadata": {},
   "outputs": [],
   "source": [
    "plot_dps_vs_sps_boxplot(list(M.index), resultados_paper, f\"- comportamiento del paper\")"
   ]
  },
  {
   "cell_type": "code",
   "execution_count": null,
   "id": "02f4fa03-e93c-4cd8-92a2-c557ede0c51c",
   "metadata": {},
   "outputs": [],
   "source": [
    "plot_dps_vs_sps_boxplot(list(M.index), resultados_nuevos, f\"comportamiento del sistema complejo\", max_it=15)"
   ]
  },
  {
   "cell_type": "code",
   "execution_count": null,
   "id": "1491524c-1e6d-4c9e-8072-eb4387154e87",
   "metadata": {},
   "outputs": [],
   "source": [
    "plot_dps_vs_sps_boxplot(list(M.index), resultados_nuevos, f\"- comportamiento del sistema complejo\", max_it=20)"
   ]
  },
  {
   "cell_type": "code",
   "execution_count": null,
   "id": "008fd37f-eec3-4ed7-8309-bc9d1f58f4f8",
   "metadata": {},
   "outputs": [],
   "source": [
    "plot_dps_vs_sps_boxplot(list(M.index), resultados_nuevos, f\"- comportamiento del sistema complejo\", max_it=25)"
   ]
  },
  {
   "cell_type": "code",
   "execution_count": null,
   "id": "ebd84396-684a-462c-aede-4a0a83f9b1d5",
   "metadata": {},
   "outputs": [],
   "source": [
    "plot_dps_vs_sps_boxplot(list(M.index), resultados_nuevos, f\"- comportamiento del sistema complejo\", max_it=30)"
   ]
  },
  {
   "cell_type": "code",
   "execution_count": null,
   "id": "f2e3939a-23cc-4e28-bcbc-6fde20acf2d8",
   "metadata": {},
   "outputs": [],
   "source": [
    "plot_dps_vs_sps_boxplot(list(M.index), resultados_nuevos, f\"- comportamiento del sistema complejo\", max_it=35)"
   ]
  },
  {
   "cell_type": "markdown",
   "id": "2443ab6e-f1aa-44f1-ae80-0aa2abce70d2",
   "metadata": {},
   "source": [
    "# usando este $\\Omega$ graficamos:"
   ]
  },
  {
   "cell_type": "code",
   "execution_count": null,
   "id": "4d644ac6-88f6-416d-9ed0-815da2cd2bab",
   "metadata": {},
   "outputs": [],
   "source": [
    "resultados_nuevo"
   ]
  },
  {
   "cell_type": "markdown",
   "id": "a16780a6-ae4d-432a-b122-3d6257888aa5",
   "metadata": {},
   "source": [
    "#TODO: Elegir uno de los $\\Omega$ para mostrar diferencia entre Arg y Alemania"
   ]
  },
  {
   "cell_type": "markdown",
   "id": "de21539d-e329-453c-b6d3-57da53a1867e",
   "metadata": {},
   "source": [
    "# TODO: enfocarse solo en las últimas iteraciones; hacer lo mismo para cigarras y hormigas"
   ]
  },
  {
   "cell_type": "code",
   "execution_count": null,
   "id": "5667d2b8-bee4-41d7-b2f1-2461e91c304c",
   "metadata": {
    "scrolled": true
   },
   "outputs": [],
   "source": [
    "plot_dps_vs_sps_boxplot([\"Argentina\", \"Germany\"], resultados_paper, \"- comportamiento del paper\")"
   ]
  },
  {
   "cell_type": "code",
   "execution_count": null,
   "id": "de319726-82a1-42ae-9822-711a1de51502",
   "metadata": {
    "scrolled": true
   },
   "outputs": [],
   "source": [
    "plot_dps_vs_sps_boxplot([\"Argentina\", \"Germany\"], resultados_nuevos, \n",
    "                        \"- comportamiento del sistema complejo (Solo Arg - Ger)\")"
   ]
  },
  {
   "cell_type": "code",
   "execution_count": null,
   "id": "0a8bb13d-e6f0-4201-8e76-d1ec2bf18771",
   "metadata": {},
   "outputs": [],
   "source": []
  }
 ],
 "metadata": {
  "kernelspec": {
   "display_name": "venv",
   "language": "python",
   "name": "venv"
  },
  "language_info": {
   "codemirror_mode": {
    "name": "ipython",
    "version": 3
   },
   "file_extension": ".py",
   "mimetype": "text/x-python",
   "name": "python",
   "nbconvert_exporter": "python",
   "pygments_lexer": "ipython3",
   "version": "3.10.14"
  }
 },
 "nbformat": 4,
 "nbformat_minor": 5
}
