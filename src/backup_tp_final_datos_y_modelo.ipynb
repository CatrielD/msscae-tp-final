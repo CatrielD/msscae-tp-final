{
 "cells": [
  {
   "cell_type": "markdown",
   "metadata": {
    "id": "616dLEBZFvWW"
   },
   "source": [
    "A partir de: https://github.com/Datawheel/py-economic-complexity/blob/main/docs/TUTORIAL.ipynb\n",
    "\n",
    "que es un tuto pequeño, vamos a hacer un simulador para replicar los resultados de:\n",
    "\n",
    "https://cnet.fi.uba.ar/netscix23/abstracts/Dynamics%20matter:%20A%20simulation%20framework%20to%20study%20diffusion%20processes%20on%20a%20Dynamic%20Product%20Space.pdf\n",
    "\n",
    "como primera parte de nuestro análisis.\n",
    "\n",
    "TODO:\n",
    "además de terminar este collab, estaría bueno:\n",
    "- separar en tres collabs, modelo, datos, informe\n",
    "- traer de cada collab de alguna manera (grabando a un archivo tal vez?) las cosas"
   ]
  },
  {
   "cell_type": "markdown",
   "metadata": {
    "id": "Fr7qe9YXENSy"
   },
   "source": [
    "Partes de este collab.\n",
    "- primero juego con los datos y veo que podamos usar la biblioteca encontrada\n",
    "  - los args de las funciones toman el RCA, pero plot_twist, al menos las que vamos a usar también tomar el M, (la matriz RCA binarizada) así que zafamos\n",
    "  - algunas funciones útiles\n",
    "- luego viene:\n",
    "- la definición de la interfaz de simulación\n",
    "- una implementación naive para algo parecido al paper\n",
    "- TODO la primera parte de nuestra idea de https://docutopia.sustrato.red/s/EIgp4w5cl#"
   ]
  },
  {
   "cell_type": "code",
   "execution_count": null,
   "metadata": {
    "colab": {
     "base_uri": "https://localhost:8080/"
    },
    "id": "M_aqfro9E-nH",
    "outputId": "e7125331-a5e7-4b77-fbed-e6224a491659"
   },
   "outputs": [],
   "source": [
    "%pip install economic_complexity\n",
    "\n",
    "from urllib.parse import urlencode\n",
    "\n",
    "import economic_complexity as ecplx\n",
    "import numpy as np\n",
    "import pandas as pd\n",
    "import time"
   ]
  },
  {
   "cell_type": "markdown",
   "metadata": {
    "id": "hSjAQO6BFuWD"
   },
   "source": []
  },
  {
   "cell_type": "code",
   "execution_count": null,
   "metadata": {
    "id": "X4O5Se7iFF5g"
   },
   "outputs": [],
   "source": [
    "import requests\n",
    "\n",
    "def encode_url(base_url, params):\n",
    "  return f\"{base_url}?{urlencode(params)}\"\n",
    "\n",
    "def request_data_from(url):\n",
    "  r = requests.get(url)\n",
    "  return pd.DataFrame(r.json()[\"data\"])"
   ]
  },
  {
   "cell_type": "code",
   "execution_count": null,
   "metadata": {
    "id": "EhKMGRzcFH8v"
   },
   "outputs": [],
   "source": [
    "YOUR_TOKEN = \"REPLACE_HERE\" # increiblemente esto funciona; tal vez sean datos falsos?"
   ]
  },
  {
   "cell_type": "code",
   "execution_count": null,
   "metadata": {
    "id": "OLXj_qy3OckM"
   },
   "outputs": [],
   "source": [
    "eurl = encode_url(\"https://oec.world/api/olap-proxy/data.jsonrecords\",\n",
    "                             {\n",
    "                                 \"Year\": \"2018,2019,2020\",\n",
    "                                 \"cube\": \"trade_i_baci_a_92\",\n",
    "                                 \"drilldowns\": \"Exporter Country,Year,HS4\",\n",
    "                                 \"measures\": \"Trade Value\",\n",
    "                                 \"token\": YOUR_TOKEN\n",
    "                             })\n",
    "# vemos que la url encodeada sea idéntica a la que sabemos que funciona\n",
    "expected = \"https://oec.world/api/olap-proxy/data.jsonrecords?Year=2018%2C2019%2C2020&cube=trade_i_baci_a_92&drilldowns=Exporter+Country%2CYear%2CHS4&measures=Trade+Value&token=REPLACE_HERE\"\n",
    "assert eurl == expected, f\"Expected:\\n{expected}\\ngot:\\n{eurl}\""
   ]
  },
  {
   "cell_type": "code",
   "execution_count": null,
   "metadata": {
    "colab": {
     "base_uri": "https://localhost:8080/",
     "height": 424
    },
    "id": "nyQR7qDBNZuU",
    "outputId": "2fc5d693-3c33-4e8d-e48c-916f5022c0ab"
   },
   "outputs": [],
   "source": [
    "df_trade = request_data_from(eurl)\n",
    "display(df_trade)"
   ]
  },
  {
   "cell_type": "code",
   "execution_count": null,
   "metadata": {
    "colab": {
     "base_uri": "https://localhost:8080/"
    },
    "id": "kequt43BwqeQ",
    "outputId": "75ce19fc-422e-4f3a-f94a-bb616ff84271"
   },
   "outputs": [],
   "source": [
    "df_trade.dtypes"
   ]
  },
  {
   "cell_type": "markdown",
   "metadata": {
    "id": "fB228b3nFNvj"
   },
   "source": [
    "Filtros de datos, comparar con:\n",
    "\n",
    "https://colab.research.google.com/drive/1H4ozsm6eH9HC13p4vYuCPenq9W5R6Meq#scrollTo=uUM93z4MFTqk\n",
    "\n",
    "y fundamentar un poco más\n",
    "\n",
    "igual lo importante de este collab es el simulador y el boilerplate para obtener los datos.\n",
    "\n",
    "saqué la parte de población y la url de los datos es del [collab](https://colab.research.google.com/drive/1H4ozsm6eH9HC13p4vYuCPenq9W5R6Meq#scrollTo=f45lVamHVPX6)"
   ]
  },
  {
   "cell_type": "code",
   "execution_count": null,
   "metadata": {
    "id": "2T8gWq4HFIfG"
   },
   "outputs": [],
   "source": [
    "df = df_trade.copy()\n",
    "\n",
    "# Products with more than $1.5B in global exports between 2016-2018\n",
    "df_products = df.groupby('HS4 ID')['Trade Value'].sum().reset_index()\n",
    "df_products = df_products[df_products['Trade Value'] > 3*500000000]\n",
    "# Countries with more than $3B in global exports between 2016-2018\n",
    "df_countries = df.groupby('Country ID')['Trade Value'].sum().reset_index()\n",
    "df_countries = df_countries[df_countries['Trade Value'] > 3*1000000000]\n",
    "\n",
    "df_filter  = df[\n",
    "  (df['Country ID'].isin(df_countries['Country ID'])) &\n",
    "  (df['HS4 ID'].isin(df_products['HS4 ID']))\n",
    "]"
   ]
  },
  {
   "cell_type": "code",
   "execution_count": null,
   "metadata": {
    "id": "I8KqbIbZFbNB"
   },
   "outputs": [],
   "source": [
    "df_pivot = pd.pivot_table(df_filter, index=['Country ID'],\n",
    "                                     columns=['HS4 ID'],\n",
    "                                     values='Trade Value')\\\n",
    "             .reset_index()\\\n",
    "             .set_index('Country ID')\\\n",
    "             .dropna(axis=1, how=\"all\")\\\n",
    "             .fillna(0)\\\n",
    "             .astype(float)"
   ]
  },
  {
   "cell_type": "code",
   "execution_count": null,
   "metadata": {
    "colab": {
     "base_uri": "https://localhost:8080/",
     "height": 493
    },
    "id": "e9cSJqgki-Wp",
    "outputId": "cddc61c6-e590-48c4-e3f5-b3bb9140f197"
   },
   "outputs": [],
   "source": [
    "df_pivot"
   ]
  },
  {
   "cell_type": "markdown",
   "metadata": {
    "id": "h74-tuJ1XyNX"
   },
   "source": [
    "Ahora calculo el RCA, ECI y PCI, como dice el tuto:"
   ]
  },
  {
   "cell_type": "code",
   "execution_count": null,
   "metadata": {
    "id": "R4Mec0n-FdsZ"
   },
   "outputs": [],
   "source": [
    "rca = ecplx.rca(df_pivot)\n",
    "ECI, PCI = ecplx.complexity(rca)"
   ]
  },
  {
   "cell_type": "code",
   "execution_count": null,
   "metadata": {
    "colab": {
     "base_uri": "https://localhost:8080/",
     "height": 204
    },
    "id": "o8rH1PgrbPms",
    "outputId": "4458a076-276e-44c4-9044-23e794da59a6"
   },
   "outputs": [],
   "source": [
    "type(ECI)"
   ]
  },
  {
   "cell_type": "code",
   "execution_count": null,
   "metadata": {
    "colab": {
     "base_uri": "https://localhost:8080/"
    },
    "id": "eAYdOcMMIkUl",
    "outputId": "d221e8cd-28f0-4a89-dea0-6e08c7b8275d"
   },
   "outputs": [],
   "source": [
    "# complejidad de los paises\n",
    "ECI"
   ]
  },
  {
   "cell_type": "code",
   "execution_count": null,
   "metadata": {
    "colab": {
     "base_uri": "https://localhost:8080/"
    },
    "id": "Af7e5y9vIpvn",
    "outputId": "1687ce6a-9f8a-497e-d309-710a562760b3"
   },
   "outputs": [],
   "source": [
    "# complejidad del producto\n",
    "PCI"
   ]
  },
  {
   "cell_type": "code",
   "execution_count": null,
   "metadata": {
    "colab": {
     "base_uri": "https://localhost:8080/",
     "height": 204
    },
    "id": "udz7NLsGFf-B",
    "outputId": "5425e827-efab-4ce2-ab70-b0c24932440c"
   },
   "outputs": [],
   "source": [
    "sorted_eci=ECI.sort_values(ascending=False)\n",
    "type(sorted_eci)"
   ]
  },
  {
   "cell_type": "code",
   "execution_count": null,
   "metadata": {
    "id": "bA-k3-qQaXO7"
   },
   "outputs": [],
   "source": [
    "from pandas import DataFrame\n",
    "\n",
    "def get_country_name(country_id, df: DataFrame):\n",
    "  return df[df[\"Country ID\"]==country_id][\"Country\"].values[0]"
   ]
  },
  {
   "cell_type": "code",
   "execution_count": null,
   "metadata": {
    "colab": {
     "base_uri": "https://localhost:8080/",
     "height": 35
    },
    "id": "T7wtpcOBeHed",
    "outputId": "41c9d499-9a88-40ce-889f-8d0a1bafdb2a"
   },
   "outputs": [],
   "source": [
    "# el más complejo!\n",
    "get_country_name(sorted_eci.index[0], df)"
   ]
  },
  {
   "cell_type": "code",
   "execution_count": null,
   "metadata": {
    "colab": {
     "base_uri": "https://localhost:8080/",
     "height": 35
    },
    "id": "4YUDdovjeK1S",
    "outputId": "a3b4afb0-3fc7-4801-beae-33f506343b6c"
   },
   "outputs": [],
   "source": [
    "# el menos complejo... jajajaajajaaja CHAD\n",
    "get_country_name(sorted_eci.index[-1], df)"
   ]
  },
  {
   "cell_type": "markdown",
   "metadata": {
    "id": "sPwt6Pa9X23k"
   },
   "source": [
    "Y el proximity? ... veamos que hay"
   ]
  },
  {
   "cell_type": "code",
   "execution_count": null,
   "metadata": {
    "colab": {
     "base_uri": "https://localhost:8080/",
     "height": 455
    },
    "id": "NINC4L50X5lz",
    "outputId": "ecf857b3-5cfd-47a2-d9a4-7037d5f7380c"
   },
   "outputs": [],
   "source": [
    "proximity = ecplx.proximity(rca)\n",
    "proximity"
   ]
  },
  {
   "cell_type": "code",
   "execution_count": null,
   "metadata": {
    "colab": {
     "base_uri": "https://localhost:8080/",
     "height": 204
    },
    "id": "ViRrp_j2J6_9",
    "outputId": "8aa21d65-da3e-4e97-918e-a46d9089492c"
   },
   "outputs": [],
   "source": [
    "type(proximity)"
   ]
  },
  {
   "cell_type": "code",
   "execution_count": null,
   "metadata": {
    "colab": {
     "base_uri": "https://localhost:8080/"
    },
    "id": "kjGQ9d2MKJFV",
    "outputId": "13ecaa71-1cb7-49b4-aa0c-225904327f42"
   },
   "outputs": [],
   "source": [
    "# si quiero los productos\n",
    "proximity.columns"
   ]
  },
  {
   "cell_type": "code",
   "execution_count": null,
   "metadata": {
    "colab": {
     "base_uri": "https://localhost:8080/"
    },
    "id": "glJkitCiKu79",
    "outputId": "2e905df4-e1d2-4f73-d8e8-003f464858af"
   },
   "outputs": [],
   "source": [
    "proximity.index"
   ]
  },
  {
   "cell_type": "markdown",
   "metadata": {
    "id": "l7zU5tGwZ2Jb"
   },
   "source": [
    "Ok, esto está muy bien, pero vamos a tener que recalcular esto iteración a iteración y que estas funciones reciban los valores de comercio en dinero no ayuda nada; no se porque estos métodos no tomar como parámetro la matriz de resumen M, binarizada... creo que deberían poder, si nos fijamos en:\n",
    "\n",
    "https://github.com/Datawheel/py-economic-complexity/blob/70abdb07d3651d710631f113aaa1ed4a665cdf7d/economic_complexity/product_space.py#L9\n",
    "\n",
    "https://github.com/Datawheel/py-economic-complexity/blob/70abdb07d3651d710631f113aaa1ed4a665cdf7d/economic_complexity/complexity.py#L16\n",
    "\n",
    "lo primero que hacen es binarizar con:"
   ]
  },
  {
   "cell_type": "code",
   "execution_count": null,
   "metadata": {
    "colab": {
     "base_uri": "https://localhost:8080/",
     "height": 455
    },
    "id": "y5sTyaQTrEL5",
    "outputId": "93fd995c-27ae-412f-8bd6-6590a6e9193e"
   },
   "outputs": [],
   "source": [
    "M = rca.ge(1.0).astype(int)\n",
    "M"
   ]
  },
  {
   "cell_type": "code",
   "execution_count": null,
   "metadata": {
    "colab": {
     "base_uri": "https://localhost:8080/",
     "height": 204
    },
    "id": "m9sc1PmQut0o",
    "outputId": "609d2257-4111-4b7f-aa06-df828c5ba995"
   },
   "outputs": [],
   "source": [
    "type(M)"
   ]
  },
  {
   "cell_type": "code",
   "execution_count": null,
   "metadata": {
    "colab": {
     "base_uri": "https://localhost:8080/"
    },
    "id": "VO5OmXj4vqEW",
    "outputId": "606a3ae1-f56a-4342-90b9-04e7bcfeb313"
   },
   "outputs": [],
   "source": [
    "M.dtypes"
   ]
  },
  {
   "cell_type": "code",
   "execution_count": null,
   "metadata": {
    "colab": {
     "base_uri": "https://localhost:8080/"
    },
    "id": "2EbtZQAmp0gZ",
    "outputId": "00eb76ec-3657-46c0-9ca0-707106508c24"
   },
   "outputs": [],
   "source": [
    "type(M.index[0])"
   ]
  },
  {
   "cell_type": "code",
   "execution_count": null,
   "metadata": {
    "colab": {
     "base_uri": "https://localhost:8080/"
    },
    "id": "zTi1HEnOJ26u",
    "outputId": "fb60d147-3806-469e-ff63-a444e3aa7980"
   },
   "outputs": [],
   "source": [
    "M.index"
   ]
  },
  {
   "cell_type": "code",
   "execution_count": null,
   "metadata": {
    "colab": {
     "base_uri": "https://localhost:8080/"
    },
    "id": "eEo17LuRNYrw",
    "outputId": "8369ab2a-c2e8-4fe1-da10-7f1f71bfa669"
   },
   "outputs": [],
   "source": [
    "M.index # indice paises"
   ]
  },
  {
   "cell_type": "code",
   "execution_count": null,
   "metadata": {
    "colab": {
     "base_uri": "https://localhost:8080/"
    },
    "id": "E0Axyd2wPszp",
    "outputId": "6ca4718b-9370-4781-ea12-84626f8b2200"
   },
   "outputs": [],
   "source": [
    "M.columns # indice productos"
   ]
  },
  {
   "cell_type": "code",
   "execution_count": null,
   "metadata": {
    "colab": {
     "base_uri": "https://localhost:8080/"
    },
    "id": "E3j97GxKN_Vc",
    "outputId": "6d1f8124-3225-4352-dd62-74308ac1d2bc"
   },
   "outputs": [],
   "source": [
    "M.loc['afago'] # productos exportados por afago (tienen 1)"
   ]
  },
  {
   "cell_type": "code",
   "execution_count": null,
   "metadata": {
    "colab": {
     "base_uri": "https://localhost:8080/"
    },
    "id": "v0Ghn1ZyOlyM",
    "outputId": "b25b9eae-166d-4b85-b6ae-b178e3b224fe"
   },
   "outputs": [],
   "source": [
    "M.loc['afago'][10101]"
   ]
  },
  {
   "cell_type": "markdown",
   "metadata": {
    "id": "FpOWimy6rWcq"
   },
   "source": [
    "y en ningunos de los métodos citados vuelve a usar el argumento, así que creo que se debería cumplir que usando la matriz M:"
   ]
  },
  {
   "cell_type": "code",
   "execution_count": null,
   "metadata": {
    "id": "lrL4aG7Prd4f"
   },
   "outputs": [],
   "source": [
    "ECI_m, PCI_m = ecplx.complexity(M)\n",
    "proximity_m = ecplx.proximity(M)"
   ]
  },
  {
   "cell_type": "markdown",
   "metadata": {
    "id": "2HKWSvCSr2IB"
   },
   "source": [
    "de lo mismo que usar los datos originales:"
   ]
  },
  {
   "cell_type": "code",
   "execution_count": null,
   "metadata": {
    "id": "KG5OnZJ3r5YV"
   },
   "outputs": [],
   "source": [
    "assert ECI.equals(ECI_m)\n",
    "assert PCI.equals(PCI_m)\n",
    "assert proximity.equals(proximity_m)"
   ]
  },
  {
   "cell_type": "markdown",
   "metadata": {
    "id": "hCT3j1APsq07"
   },
   "source": [
    "**excelente! lo podemos usar.**"
   ]
  },
  {
   "cell_type": "code",
   "execution_count": null,
   "metadata": {
    "colab": {
     "base_uri": "https://localhost:8080/"
    },
    "id": "Mm6hOBfFKGTc",
    "outputId": "738c5d67-5923-40f3-fb52-c9c15f283c76"
   },
   "outputs": [],
   "source": [
    "proximity.index"
   ]
  },
  {
   "cell_type": "markdown",
   "metadata": {
    "id": "maOnLV1GZU15"
   },
   "source": [
    "Esto establece un grafo de productos, lo que tenemos que hacer es modelar un país/agente.\n",
    "\n",
    "El mismo tendrá acceso a la matriz de exportación y será reponsabilidad de cada agente modificarla.\n",
    "\n",
    "Luego un simulador se encargará del book keeping de simulación, modificación de estado compartido que no sea M, etc"
   ]
  },
  {
   "cell_type": "code",
   "execution_count": null,
   "metadata": {
    "colab": {
     "base_uri": "https://localhost:8080/"
    },
    "id": "TV0Og5ftv4tj",
    "outputId": "119166be-1b03-4b5b-c096-b30872659b7c"
   },
   "outputs": [],
   "source": [
    " %pip install pandera # para type checking, me parece que es super obviable"
   ]
  },
  {
   "cell_type": "code",
   "execution_count": null,
   "metadata": {
    "id": "hTMOCx9Ng78w"
   },
   "outputs": [],
   "source": [
    "# esto me hace acordar a primegean seetheando con \"no resuelvas problemas que todavía no tienes\"\n",
    "# el nivel de abstracción de cabeza al dope que me mandé... pero ... parece que a la IA le gusta\n",
    "# porque me autocompleta todo de maravilla\n",
    "\n",
    "from typing import List, Callable, Dict # , Self # recién en py3.11\n",
    "from __future__ import annotations # para poder type hint la clase\n",
    "import pandera\n",
    "from pandera.typing import DataFrame, Series\n",
    "\n",
    "HS4_Product_Id = int\n",
    "Country_Id = str\n",
    "Tiempo = int\n",
    "\n",
    "class SubclassResponsability(Exception):\n",
    "  def __init__(self):\n",
    "    super().__init__(\"Subclass Responsability: este método tiene que ser implementado por una subclase\")\n",
    "\n",
    "class IPais:\n",
    "  \"\"\"Vamos por un diseño bien de objetos; aunque creo que si esto se expresa\n",
    "  como multiplicación de matrices vuela, pero no vuela en mi mente no matemática\n",
    "  ¿quién programa en APL?.\n",
    "\n",
    "  Distintos Paises pueden tener\n",
    "  - distintas estrategias de elección de productos.\n",
    "  - distintas fronteras de productos.\n",
    "  - distintos tiempos para alcanzar productos\n",
    "  \"\"\"\n",
    "\n",
    "  def elegir_productos(self) -> List[HS4_Product_Id]:\n",
    "    \"\"\"Cada país tiene una forma de elegir los siguientes productos a ser producidos,\n",
    "    es una lista porque podría haber más de uno en un solo turno\n",
    "    es la difusión efectiva\"\"\"\n",
    "    raise SubclassResponsability\n",
    "\n",
    "  def tiempo_para_ser_competitivo(self, pid: HS4_Product_Id) -> Tiempo:\n",
    "    \"Cuanto tiempo hasta ser competitivo? no cambia el estado\"\n",
    "    raise SubclassResponsability\n",
    "\n",
    "  def investigar_producto(self, pid: HS4_Product_Id) -> Tiempo:\n",
    "    \"\"\"Usamos la metáfora de investigar, devuelve el tiempo necesario para terminar de lograrlo,\n",
    "    dado el estado del agente\"\"\"\n",
    "    raise SubclassResponsability\n",
    "\n",
    "  def frontera_de_productos(self) -> List[HS4_Product_Id]:\n",
    "    \"todos los productos alcanzables\"\n",
    "    raise SubclassResponsability\n",
    "\n",
    "  def frontera_de_productos_df(self) -> DataFrame[HS4_Product_Id]:\n",
    "    \"todos los productos alcanzables\"\n",
    "    raise SubclassResponsability\n",
    "\n",
    "  def es_exportado(self, pid: HS4_Product_Id) -> bool:\n",
    "    raise SubclassResponsability\n",
    "\n",
    "  def productos_exportados(self) -> List[HS4_Product_Id]:\n",
    "    \"los productos que ya se exportan\"\n",
    "    raise SubclassResponsability\n",
    "\n",
    "  def investigando(self) -> List[HS4_Product_Id]:\n",
    "    \"Devuelve los productos actualmente bajo investigación\"\n",
    "    raise SubclassResponsability\n",
    "\n",
    "  def actualizar_exportaciones(self, pdis: List[HS4_Product_Id]) -> IPais:\n",
    "    \"\"\"Modifica las exportaciones, según el estado actual del agente\"\"\"\n",
    "    raise SubclassResponsability\n",
    "\n",
    "  def conocer_estado_del_mundo(self, **estado_dict):\n",
    "    \"permite settear estados compartidos adicionales\"\n",
    "    raise SubclassResponsability\n",
    "\n",
    "  def productos_en_investigacion(self) -> List[HS4_Product_Id]:\n",
    "    raise SubclassResponsability\n",
    "\n",
    "  def avanzar_tiempo(self) -> List[HS4_Product_Id]:\n",
    "    \"Avanza el tiempo y devuelve la lista de productos terminados en este turno\"\n",
    "    raise SubclassResponsability\n",
    "\n",
    "\n",
    "def test_interface(pais: Pais):\n",
    "  \"estaría bueno testear la interfaz, tengo en un proyecto código que hace eso, después lo subo\"\n",
    "  pass"
   ]
  },
  {
   "cell_type": "markdown",
   "metadata": {
    "id": "X7JbKIG_Gzrh"
   },
   "source": [
    "Cada agente debe implementar la interfaz IPais, para que el simulador pueda usarlo. (Hay algunos métodos de más)\n",
    "\n",
    "Pero también hay pequeños objetos que implementan una fracción parcial de la misma, de alguna forma dada y reutilizable usando multiple herencia, se llaman Mixin. Son un patrón un poco polémico, porque vendrían a ser una poor man composition y la herencia múltiple suele traer problemas cuando el grafo de herencia crece mucho, pero para proyectos chicos a mi me agrada bastante:"
   ]
  },
  {
   "cell_type": "code",
   "execution_count": null,
   "metadata": {
    "id": "GCY0aP59B-Gb"
   },
   "outputs": [],
   "source": [
    "class PaisBaseMixin:\n",
    "  \"\"\"se encarga de la investigación y la exportación, esto es común para cualquier pais\n",
    "  En este contexto cada país se encarga de actualizar\n",
    "  un estado compartido: la matriz M de exportaciones competitivas, del resto se encarga\n",
    "  el Simulador.\n",
    "  Este es un comportamiento base, sobre el cual cada instancia de Pais puede desarrollar\"\"\"\n",
    "  def __init__(self, country_id: Country_Id, M: DataFrame[bool]):\n",
    "    self.M = M\n",
    "    self.country_id = country_id\n",
    "    self.country_name = get_country_name(country_id, df) # TODO, no depender de una var global\n",
    "    self.investigando: Dict[HS4_Product_Id, Tiempo] = {}\n",
    "    #start = time.time()\n",
    "    #print(f\"(PaisBaseMixin.__init__) productos exportados calculados en: {time.time() - start}\")\n",
    "\n",
    "  def investigando(self) -> List[HS4_Product_Id]:\n",
    "    return list(self.investigando.keys())\n",
    "\n",
    "  def investigar_producto(self, pid: HS4_Product_Id) -> Tiempo:\n",
    "    tiempo = self.tiempo_para_ser_competitivo(pid)\n",
    "    self.investigando[pid] = tiempo\n",
    "    return tiempo\n",
    "\n",
    "  def productos_en_investigacion(self) -> List[HS4_Product_Id]:\n",
    "    return list(self.investigando.keys())\n",
    "\n",
    "  def avanzar_tiempo(self) -> List[HS4_Product_Id]:\n",
    "    terminados = []\n",
    "    for pid, tiempo in self.investigando.items():\n",
    "      if tiempo == 1:\n",
    "        terminados.append(pid)\n",
    "      else:\n",
    "        self.investigando[pid] -= 1\n",
    "    for pid in terminados:\n",
    "      del self.investigando[pid]\n",
    "    return terminados\n",
    "\n",
    "  def actualizar_exportaciones(self, pids: List[HS4_Product_Id]) -> IPais:\n",
    "    \"\"\"Modifica las exportaciones.\"\"\"\n",
    "    for pid in pids:\n",
    "      self.M.loc[self.country_id][pid] = 1\n",
    "    return self\n",
    "\n",
    "  def productos_exportados_df(self) -> Index[HS4_Product_Id]:\n",
    "    productos_pais = self.M.loc[self.country_id]\n",
    "    return productos_pais[productos_pais == 1].index\n",
    "\n",
    "  def productos_exportados(self) -> List[HS4_Product_Id]:\n",
    "    return self.productos_exportados_df().to_list()\n",
    "\n",
    "  def es_exportado(self, pid: HS4_Product_Id) -> bool:\n",
    "    return self.M.loc[self.country_id][pid] == 1\n",
    "\n",
    "  def __str__(self):\n",
    "    return self.country_name"
   ]
  },
  {
   "cell_type": "code",
   "execution_count": null,
   "metadata": {
    "id": "vdE8C6Ip-AP8"
   },
   "outputs": [],
   "source": [
    "class PaisConCotaProximidadMixin:\n",
    "  \"\"\"Por ejemplo, un Pais en un mundo simple o inocente\n",
    "  logra siempre lo que quiere, en cada paso de la simulación, siempre y cuando\n",
    "  el producto esté a su alcance\"\"\"\n",
    "\n",
    "  def __init__(self,\n",
    "               M: DataFrame[int],\n",
    "               proximity: DataFrame[float],\n",
    "               omega: int):\n",
    "    self.proximity = proximity\n",
    "    self.omega = omega\n",
    "\n",
    "  def frontera_de_productos_df(self) -> DataFrame[HS4_Product_Id]:\n",
    "    \"Todos los productos alcanzables, devuelve una máscara\"\n",
    "    productos_pais = self.M.loc[self.country_id]\n",
    "    exportados = productos_pais[productos_pais == 1]\n",
    "    no_exportados = productos_pais[productos_pais == 0]\n",
    "\n",
    "    frontera = ( self.proximity.loc[exportados.index][no_exportados.index] > self.omega )\n",
    "    frontera = frontera.any(axis='rows')\n",
    "    return frontera[frontera].index\n",
    "    #frontera = frontera[frontera].index\n",
    "    #return frontera\n",
    "\n",
    "  def frontera_de_productos(self) -> List[HS4_Product_Id]:\n",
    "    return self.frontera_de_productos_df().to_list()\n",
    "\n",
    "  def elegir_productos(self) -> List[HS4_Product_Id]:\n",
    "    return self.frontera_de_productos()\n",
    "\n",
    "  def conocer_estado_del_mundo(self, **kwargs):\n",
    "    self.proximity = kwargs[\"proximidad\"]\n",
    "\n",
    "\n",
    "class PaisNaive(PaisBaseMixin, PaisConCotaProximidadMixin, IPais):\n",
    "  \"\"\"Y por ejemplo ahora podemos definir un pais simple como una combinación de mixins\n",
    "  tener cuidado con el orden de los mixins... la interfaz es el último\n",
    "  ¿performance? ¿quien quiere tal cosa si puede jugar con interfaces?\n",
    "\n",
    "  Este pais logra en cada iteración accede a ser competitivo, en un turno a todos\n",
    "  los productos que estén a su alcance.\n",
    "  \"\"\"\n",
    "  def __init__(self, country_id: Country_Id,\n",
    "               M: DataFrame, proximidad: DataFrame, omega: float):\n",
    "    \"el constructor aglutina todo\"\n",
    "    PaisBaseMixin.__init__(self, country_id, M)\n",
    "    PaisConCotaProximidadMixin.__init__(self, M, proximidad, omega)\n",
    "\n",
    "  def tiempo_para_ser_competitivo(self, pid: HS4_Product_Id) -> Tiempo:\n",
    "    return 1\n",
    "\n"
   ]
  },
  {
   "cell_type": "markdown",
   "metadata": {
    "id": "B1PlyfDz49Zk"
   },
   "source": [
    "Un coordinador de simulación es un sistema que:\n",
    "- toma datos e inicializa agentes\n",
    "- itera hasta encontrar un criterio de parada.\n",
    "  - En cada iteración:\n",
    "    - le indica a cada agente que elija un producto a investigar\n",
    "    - coordina cuando se actualiza el estado del mundo compartido"
   ]
  },
  {
   "cell_type": "markdown",
   "metadata": {
    "id": "b7beRpeKLFNk"
   },
   "source": [
    "Una implementación del comportamiento del paper citado"
   ]
  },
  {
   "cell_type": "code",
   "execution_count": null,
   "metadata": {
    "id": "9S-mrDNx4M7L"
   },
   "outputs": [],
   "source": [
    "from typing import Iterator\n",
    "import time\n",
    "\n",
    "class Simulador:\n",
    "  \"\"\"framework de caja blanca ... HW cry me a river,\n",
    "  en fin, el simulador ... ejem... simula, debería ser self explanatory\"\"\"\n",
    "\n",
    "  def __init__(self,\n",
    "               criterio_parada: Callable[..., bool]):\n",
    "    self.criterio_parada = criterio_parada\n",
    "    self._estado_inicial_de_parada()\n",
    "    start = time.time()\n",
    "    self.paises = self._crear_paises()\n",
    "    print(f\"paises creados en: {time.time() - start}\")\n",
    "\n",
    "  def simular(self):\n",
    "    for _ in self.iterar_simulacion():\n",
    "      pass\n",
    "\n",
    "  # TODO: que devuelva lo que usa para contar el criterio de parada, un counter, indice gini, etc\n",
    "  def iterar_simulacion(self) -> Iterator[Dict[Country_Id, HS4_Product_Id]]:\n",
    "    \"\"\"Devuelve un iterador para poder simularlo por pasos y obtener para cada país\n",
    "    que productos alcanzaron competitividad\"\"\"\n",
    "    while not self.es_fin_de_simulacion():\n",
    "      output = {}\n",
    "      # fase de decisiones    (nota, la tener dos fases es muy paralilizable)\n",
    "      for pais in self.paises:\n",
    "        nuevos_productos = pais.elegir_productos()\n",
    "        for pid in nuevos_productos:\n",
    "          pais.investigar_producto(pid)\n",
    "      # fase de acciones\n",
    "      for pais in self.paises:\n",
    "        terminados = pais.avanzar_tiempo()\n",
    "        output[pais] = terminados # como se podría generalizar lo que devuelve?\n",
    "        pais.actualizar_exportaciones(terminados)\n",
    "\n",
    "      self._actualizar_estado(output)\n",
    "      self._notificar_paises()\n",
    "      yield output\n",
    "\n",
    "  def es_fin_de_simulacion(self) -> bool:\n",
    "    raise SubclassResponsability\n",
    "\n",
    "  # privadas/protegidas\n",
    "  def _crear_paises(self):\n",
    "    raise SubclassResponsability\n",
    "\n",
    "  def _actualizar_estado(self, output_iteracion: Dict[Country_Id, HS4_Product_Id]):\n",
    "    \"\"\"se encarga del book keeping y la transiciones de estado que no sean,\n",
    "    responsabilidad del país. Entre ellas, el conteo de pasos por ejemplo\"\"\"\n",
    "    raise SubclassResponsability\n",
    "\n",
    "  def _notificar_paises(self):\n",
    "    \"\"\"cuando el estado del mundo cambia los paises deben enterarse para\n",
    "    actualizar de ser necesario algún estado interno adicional a las exportaciones\"\"\"\n",
    "    raise SubclassResponsability\n",
    "\n",
    "  def _estado_inicial_de_parada():\n",
    "    raise SubclassResponsability\n"
   ]
  },
  {
   "cell_type": "markdown",
   "metadata": {
    "id": "b2Xms30pxKJ-"
   },
   "source": [
    "Con esto podemos definir de manera muy simple, los dos simuladores que usan en el paper:"
   ]
  },
  {
   "cell_type": "code",
   "execution_count": null,
   "metadata": {
    "id": "VNZ-cFtqxOXZ"
   },
   "outputs": [],
   "source": [
    "class SimuladorProductSpace(Simulador):\n",
    "  \"\"\"Simulador base, con paises Naive que opera sobre el grafo de proximidades,\n",
    "  -mal llamado- product space\"\"\"\n",
    "\n",
    "  def __init__(self,\n",
    "               criterio_parada: Callable[..., bool],\n",
    "               M: DataFrame, omega=0.4):\n",
    "    self.M = M\n",
    "    self.omega = omega\n",
    "    start = time.time()\n",
    "    self.proximidad = ecplx.proximity(M)\n",
    "    print(f\"proximidad calculada en: {time.time() - start}\")\n",
    "    # llamar al constructor de las super clases al final\n",
    "    super().__init__(criterio_parada)\n",
    "\n",
    "  # TODO esto debería ser un wrapper así puedo cambiar facilmente el tipo de país\n",
    "  # y puedo sacar del constructor el omega, podría tener una simulación con toda esta lógica\n",
    "  # pero que no use omega\n",
    "  def _crear_paises(self):\n",
    "    return [PaisNaive(country_id, self.M, self.proximidad, self.omega) for country_id in self.M.index]\n",
    "\n",
    "  def _estado_inicial_de_parada(self):\n",
    "    self.current_step = 0\n",
    "\n",
    "  def _actualizar_estado(self, _):\n",
    "    # este simulador no actualiza nada más\n",
    "    self.current_step += 1\n",
    "\n",
    "  def es_fin_de_simulacion(self):\n",
    "    return self.criterio_parada(self.current_step)"
   ]
  },
  {
   "cell_type": "code",
   "execution_count": null,
   "metadata": {
    "id": "VUL-wPdHxSE1"
   },
   "outputs": [],
   "source": [
    "class SimuladorEstatico(SimuladorProductSpace):\n",
    "  def _notificar_paises(self):\n",
    "    pass # no hace falta hacer nada, porque no hay modificación\n",
    "\n",
    "class SimuladorDinamico(SimuladorProductSpace):\n",
    "  def _actualizar_estado(self, _):\n",
    "    self.proximidad = ecplx.proximity(self.M)\n",
    "    super()._actualizar_estado(_)\n",
    "\n",
    "  def _notificar_paises(self):\n",
    "    for p in self.paises:\n",
    "      p.conocer_estado_del_mundo(proximidad = self.proximidad) # se podría pasar directamente por eficiencia, pero interfaz"
   ]
  },
  {
   "cell_type": "code",
   "execution_count": null,
   "metadata": {
    "id": "fkay4gqn-4NA"
   },
   "outputs": [],
   "source": [
    "def print_m(msg, mostrar=True):\n",
    "  if mostrar:\n",
    "    print(msg)\n",
    "\n",
    "def correr_simulacion_mostrando(sim: Simulador, mostrar = True) -> List[Dict[Country_Id, List[HS4_Product_Id]]]:\n",
    "  \"horrible esta función\"\n",
    "  res = []\n",
    "  start = time.time()\n",
    "  it_start = time.time()\n",
    "  for d in sim.iterar_simulacion():\n",
    "    res.append(d)\n",
    "    print_m(f\"iteración: {sim.current_step}\", mostrar)\n",
    "    for pais, productos in d.items():\n",
    "      print_m(f\"\\t{pais.country_id}: descubrió {len(productos)}\\t({pais})\", mostrar)\n",
    "    print_m(f\"tiempo iteración: {time.time() - it_start}\", mostrar)\n",
    "    it_start = time.time()\n",
    "  print_m(f\"tiempo total: {time.time() - start}\", mostrar)\n",
    "  return res"
   ]
  },
  {
   "cell_type": "code",
   "execution_count": null,
   "metadata": {
    "colab": {
     "base_uri": "https://localhost:8080/"
    },
    "id": "orBXk0Sm-6Ke",
    "outputId": "9fd33c79-00f4-4b8b-ba64-d30f5d0473cd",
    "scrolled": true
   },
   "outputs": [],
   "source": [
    "simEst = SimuladorEstatico(lambda step: step > 4, M.copy(deep=True), 0.4)\n",
    "historia_estatica = correr_simulacion_mostrando(simEst, False)\n",
    "historia_estatica"
   ]
  },
  {
   "cell_type": "code",
   "execution_count": null,
   "metadata": {
    "colab": {
     "base_uri": "https://localhost:8080/"
    },
    "id": "n8zK8mW9-7tS",
    "outputId": "c759000b-7901-4378-ee05-4db0032332cd"
   },
   "outputs": [],
   "source": [
    "simDin = SimuladorDinamico(lambda step: step > 4, M.copy(deep=True), 0.4)\n",
    "historia_dinamica = correr_simulacion_mostrando(simDin)"
   ]
  },
  {
   "cell_type": "code",
   "execution_count": null,
   "metadata": {
    "colab": {
     "base_uri": "https://localhost:8080/"
    },
    "id": "YV4m5qzAJhOj",
    "outputId": "a2e0ba09-689a-4da4-b042-3f7c667b751e"
   },
   "outputs": [],
   "source": [
    "simDin_hard = SimuladorDinamico(lambda step: step > 4, M.copy(deep=True), 0.4)\n",
    "historia_dinamica_hard = correr_simulacion_mostrando(simDin_hard)"
   ]
  },
  {
   "cell_type": "code",
   "execution_count": null,
   "metadata": {
    "id": "sBSeMfpmKN4H"
   },
   "outputs": [],
   "source": [
    "# TODO, criterio de parada térmico (que frene cuando los cambios sean pocos)\n",
    "import math\n",
    "\n",
    "class PaisComplejo(PaisNaive, IPais):\n",
    "  \"\"\"Ok, este es el problema de los frameworks de subclasificación,\n",
    "  esto no es un pais Naive, es todo lo contrario, sin embargo subclasifica\n",
    "  porque es cómodo por el código compartido\"\"\"\n",
    "  def __init__(self, country_id: Country_Id,\n",
    "               M: DataFrame,\n",
    "               proximidad: DataFrame,\n",
    "               eci, PCI,\n",
    "               omega: float):\n",
    "    PaisNaive.__init__(self, country_id, M, proximidad, omega)\n",
    "    self.mi_eci = eci\n",
    "    self.PCI = PCI\n",
    "\n",
    "  def tiempo_para_ser_competitivo(self, pid: HS4_Product_Id) -> Tiempo:\n",
    "    \"\"\"TODO: discutir esto. además no se porque ECI y PCI dan negativos (ver más arriba)\n",
    "    esto es muy similar al cálculo de proximidad, pero en vez del máximo como define el paper se calcula el mínimo\n",
    "    (nosotros no calculamos el máximo, porque como es un umbral usamos .any(), ver el método frontera_de_productos_df)\n",
    "    \"\"\"\n",
    "    complejidad = self.PCI[pid]\n",
    "    return math.ceil(abs((complejidad / self.mi_eci)))\n",
    "\n",
    "  def tiempos_para_ser_competitivo(self) -> Series[Tiempo]:\n",
    "    frontera = self.frontera_de_productos_df()\n",
    "    tiempos = frontera.map(self.tiempo_para_ser_competitivo)\n",
    "    return pd.Series(index=frontera, data=tiempos)\n",
    "\n",
    "class PaisHormiga(PaisComplejo):\n",
    "  def elegir_productos(self) -> List[HS4_Product_Id]:\n",
    "    #TODO: por qué el 10% y no 1 o config? ... я не знаю, потому\n",
    "    \"selecciona los primeros 10% de productos más complejos de su frontera\"\n",
    "    tiempos = self.tiempos_para_ser_competitivo()\n",
    "    return tiempos.nlargest(int(len(tiempos) * 0.1)).index.to_list()\n",
    "\n",
    "class PaisCigarra(PaisComplejo):\n",
    "  def elegir_productos(self) -> List[HS4_Product_Id]:\n",
    "    \"selecciona los últimos 10% de productos más complejos de su frontera\"\n",
    "    tiempos = self.tiempos_para_ser_competitivo()\n",
    "    return tiempos.nsmallest(int(len(tiempos) * 0.1)).index.to_list()\n",
    "\n",
    "class SimuladorComplejo(SimuladorProductSpace):\n",
    "  \"Un simulador complejo tiene paises que consideran su complejidad\"\n",
    "  def __init__(self,\n",
    "               criterio_parada: Callable[..., bool],\n",
    "               M: DataFrame, omega=0.4):\n",
    "    self.ECI, self.PCI = ecplx.complexity(M)\n",
    "    super().__init__(criterio_parada, M, omega)\n",
    "\n",
    "  def _actualizar_estado(self, output_iteracion: Dict[Country_Id, HS4_Product_Id]):\n",
    "    self.ECI, self.PCI = ecplx.complexity(M)\n",
    "    super()._actualizar_estado(output_iteracion)\n",
    "\n",
    "  def _notificar_paises(self):\n",
    "    for p in self.paises:\n",
    "      p.conocer_estado_del_mundo(proximidad = self.proximidad,\n",
    "                                 eci=ECI[p.country_id], PCI=PCI)\n",
    "\n",
    "class SimuladorCigarras(SimuladorComplejo):\n",
    "  def _crear_paises(self):\n",
    "    return [PaisCigarra(country_id, self.M,\n",
    "                         self.proximidad,\n",
    "                         self.ECI[country_id],\n",
    "                         self.PCI,\n",
    "                         self.omega) for country_id in self.M.index]\n",
    "\n",
    "class SimuladorHormigas(SimuladorComplejo):\n",
    "  def _crear_paises(self):\n",
    "    return [PaisHormiga(country_id, self.M,\n",
    "                         self.proximidad,\n",
    "                         self.ECI[country_id],\n",
    "                         self.PCI,\n",
    "                         self.omega) for country_id in self.M.index]"
   ]
  },
  {
   "cell_type": "code",
   "execution_count": null,
   "metadata": {
    "colab": {
     "base_uri": "https://localhost:8080/"
    },
    "id": "leG6yQzaKN1a",
    "outputId": "79152acc-da53-4dfb-e4ae-8aeec71fa3fd",
    "scrolled": true
   },
   "outputs": [],
   "source": [
    "#TODO el omega tiene que salir de los resultados anteriores\n",
    "simDin_cigarra = SimuladorCigarras(lambda step: step > 4, M.copy(deep=True), 0.4)\n",
    "correr_simulacion_mostrando(simDin_cigarra)"
   ]
  },
  {
   "cell_type": "code",
   "execution_count": null,
   "metadata": {
    "colab": {
     "base_uri": "https://localhost:8080/"
    },
    "id": "FGzBFQzmU_Li",
    "outputId": "17721e6c-5ea0-4f02-e4cd-23af388ff99e",
    "scrolled": true
   },
   "outputs": [],
   "source": [
    "simDin_hormiga = SimuladorHormigas(lambda step: step > 4, M.copy(deep=True), 0.4)\n",
    "correr_simulacion_mostrando(simDin_hormiga)"
   ]
  }
 ],
 "metadata": {
  "colab": {
   "provenance": []
  },
  "kernelspec": {
   "display_name": "venv",
   "language": "python",
   "name": "venv"
  },
  "language_info": {
   "codemirror_mode": {
    "name": "ipython",
    "version": 3
   },
   "file_extension": ".py",
   "mimetype": "text/x-python",
   "name": "python",
   "nbconvert_exporter": "python",
   "pygments_lexer": "ipython3",
   "version": "3.10.14"
  }
 },
 "nbformat": 4,
 "nbformat_minor": 4
}
